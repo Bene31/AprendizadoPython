{
  "nbformat": 4,
  "nbformat_minor": 0,
  "metadata": {
    "colab": {
      "name": "meu_primeiro_codigo.ipynb",
      "provenance": [],
      "collapsed_sections": []
    },
    "kernelspec": {
      "name": "python3",
      "display_name": "Python 3"
    }
  },
  "cells": [
    {
      "cell_type": "code",
      "metadata": {
        "colab": {
          "base_uri": "https://localhost:8080/"
        },
        "id": "6TuFDt9440al",
        "outputId": "d7d3b4c5-70c4-495b-8824-71199424d6dd"
      },
      "source": [
        "print(\"hello world\")\r\n",
        "\r\n",
        "import matplotlib.pyplot as plt\r\n"
      ],
      "execution_count": null,
      "outputs": [
        {
          "output_type": "stream",
          "text": [
            "hello world\n"
          ],
          "name": "stdout"
        }
      ]
    },
    {
      "cell_type": "code",
      "metadata": {
        "colab": {
          "base_uri": "https://localhost:8080/"
        },
        "id": "YTUgqDZ4IRbE",
        "outputId": "4db453b4-860a-414e-e0ff-f96470cc6120"
      },
      "source": [
        "x = 10\r\n",
        "y = 1\r\n",
        "\r\n",
        "if x == y:\r\n",
        "\tprint(\"x igual a y\")\r\n",
        "elif y > x: \r\n",
        "\tprint(\"y é maior que x\")\r\n",
        "else:\r\n",
        "\tprint(\"x diferente de y\")"
      ],
      "execution_count": null,
      "outputs": [
        {
          "output_type": "stream",
          "text": [
            "x diferente de y\n"
          ],
          "name": "stdout"
        }
      ]
    },
    {
      "cell_type": "code",
      "metadata": {
        "colab": {
          "base_uri": "https://localhost:8080/"
        },
        "id": "Ktu-CNZuIGTq",
        "outputId": "7d123e6c-1de7-4c19-bc56-eb9fe4eb4d60"
      },
      "source": [
        "x = 1\r\n",
        "\r\n",
        "while x < 10:\r\n",
        "\tprint(x)\r\n",
        "\tx += 1"
      ],
      "execution_count": null,
      "outputs": [
        {
          "output_type": "stream",
          "text": [
            "1\n",
            "2\n",
            "3\n",
            "4\n",
            "5\n",
            "6\n",
            "7\n",
            "8\n",
            "9\n"
          ],
          "name": "stdout"
        }
      ]
    },
    {
      "cell_type": "code",
      "metadata": {
        "colab": {
          "base_uri": "https://localhost:8080/"
        },
        "id": "CTp9nyPXH81G",
        "outputId": "f044474a-7f55-45de-eec3-b8eb43a78f04"
      },
      "source": [
        "lista = [1,2,3,4,5,6]\r\n",
        "print (lista)"
      ],
      "execution_count": null,
      "outputs": [
        {
          "output_type": "stream",
          "text": [
            "[1, 2, 3, 4, 5, 6]\n"
          ],
          "name": "stdout"
        }
      ]
    },
    {
      "cell_type": "code",
      "metadata": {
        "colab": {
          "base_uri": "https://localhost:8080/"
        },
        "id": "7NlcN7YzIAj2",
        "outputId": "a8a7a411-9457-4c3a-fa95-8484737747db"
      },
      "source": [
        "for i in lista:\r\n",
        "\tprint(i)"
      ],
      "execution_count": null,
      "outputs": [
        {
          "output_type": "stream",
          "text": [
            "1\n",
            "2\n",
            "3\n",
            "4\n",
            "5\n",
            "6\n"
          ],
          "name": "stdout"
        }
      ]
    },
    {
      "cell_type": "code",
      "metadata": {
        "colab": {
          "base_uri": "https://localhost:8080/"
        },
        "id": "hMupWaOsH4CW",
        "outputId": "73233563-66a4-48a9-faad-5ecaa100dd86"
      },
      "source": [
        "for i in range(10):\r\n",
        "\tprint(i)"
      ],
      "execution_count": null,
      "outputs": [
        {
          "output_type": "stream",
          "text": [
            "0\n",
            "1\n",
            "2\n",
            "3\n",
            "4\n",
            "5\n",
            "6\n",
            "7\n",
            "8\n",
            "9\n"
          ],
          "name": "stdout"
        }
      ]
    },
    {
      "cell_type": "code",
      "metadata": {
        "colab": {
          "base_uri": "https://localhost:8080/"
        },
        "id": "Kfdnxgc7IqWK",
        "outputId": "c5fd9a04-ab36-418f-e03b-c5afb7ba1553"
      },
      "source": [
        "nome = input(\"Digite seu nome:\")\r\n",
        "idade = input(\"Digite sua idade: \")\r\n",
        "print(\"Eu sou \"+nome+\" e tenho \"+idade)"
      ],
      "execution_count": null,
      "outputs": [
        {
          "output_type": "stream",
          "text": [
            "Digite seu nome:Arthur\n",
            "Digite sua idade: 25\n",
            "Eu sou Arthur e tenho 25\n"
          ],
          "name": "stdout"
        }
      ]
    },
    {
      "cell_type": "code",
      "metadata": {
        "colab": {
          "base_uri": "https://localhost:8080/"
        },
        "id": "MN91JqrsLJZh",
        "outputId": "c184e0fb-8b82-431b-90e3-0ce1ec44429e"
      },
      "source": [
        "# len serve para verificar o tamanho da string\r\n",
        "nome = input(\"Digite seu nome:\")\r\n",
        "tamanho = len(nome)\r\n",
        "\r\n",
        "print(tamanho)"
      ],
      "execution_count": null,
      "outputs": [
        {
          "output_type": "stream",
          "text": [
            "Digite seu nome:Arthur\n",
            "6\n"
          ],
          "name": "stdout"
        }
      ]
    },
    {
      "cell_type": "code",
      "metadata": {
        "colab": {
          "base_uri": "https://localhost:8080/"
        },
        "id": "uJqEiK_xM4M8",
        "outputId": "0af708d3-4a8c-4581-b544-879e3c856f1e"
      },
      "source": [
        "nome = input(\"Digite seu nome:\")\r\n",
        "tamanho = len(nome)\r\n",
        "\r\n",
        "print(nome[0])\r\n",
        "print(nome[1])\r\n",
        "print(nome[2])\r\n",
        "print(nome[0:4])"
      ],
      "execution_count": null,
      "outputs": [
        {
          "output_type": "stream",
          "text": [
            "Digite seu nome:Arthur\n",
            "A\n",
            "r\n",
            "t\n",
            "Arth\n"
          ],
          "name": "stdout"
        }
      ]
    },
    {
      "cell_type": "code",
      "metadata": {
        "id": "9DCbvJOKNRaG"
      },
      "source": [
        "nome = input(\"Digite seu nome:\")\r\n",
        "tamanho = len(nome)\r\n",
        "\r\n",
        "print(nome.upper())\r\n",
        "print(nome.lower())"
      ],
      "execution_count": null,
      "outputs": []
    },
    {
      "cell_type": "code",
      "metadata": {
        "id": "R0mD2su5T7oD"
      },
      "source": [
        "idade = int(input(\"Digite sua idade: \"))\r\n",
        " \r\n",
        "if idade >= 18:\r\n",
        "    print(\"Maior de idade\")\r\n",
        "elif idade < 18:\r\n",
        "    print(\"Menor de idade\")"
      ],
      "execution_count": null,
      "outputs": []
    },
    {
      "cell_type": "code",
      "metadata": {
        "id": "9LPBG2naUBGW"
      },
      "source": [
        "nota1 = float(input(\"Digite a primeira nota: \"))\r\n",
        "nota2 = float(input(\"Digite a segunda nota: \"))\r\n",
        " \r\n",
        "media = (nota1+nota2)/2\r\n",
        " \r\n",
        "if media >= 6:\r\n",
        "    print(\"Aprovado\")\r\n",
        "else:\r\n",
        "    print(\"Reprovado\")"
      ],
      "execution_count": null,
      "outputs": []
    },
    {
      "cell_type": "code",
      "metadata": {
        "id": "gWdQ7IrSUFqC"
      },
      "source": [
        "from math import sqrt\r\n",
        "a = int(input(\"Digite o valor de A: \"))\r\n",
        "b = int(input(\"Digite o valor de B: \"))\r\n",
        "c = int(input(\"Digite o valor de C: \"))\r\n",
        " \r\n",
        "delta = b**2 - 4*a*c\r\n",
        "raiz_delta = sqrt(delta)\r\n",
        " \r\n",
        "if raiz_delta < 0:\r\n",
        "    print(\"Delta negativo\")\r\n",
        "else:\r\n",
        "    x1 = (-b + raiz_delta)/2*a\r\n",
        "    x2 = (-b + raiz_delta)/2*a\r\n",
        " \r\n",
        "    print(\"As raízes são\", x1, \"e\", x2)"
      ],
      "execution_count": null,
      "outputs": []
    },
    {
      "cell_type": "code",
      "metadata": {
        "colab": {
          "base_uri": "https://localhost:8080/"
        },
        "id": "hmA9z2rVUMTX",
        "outputId": "8c5ff9dc-8dca-4def-8f48-56320af97bcc"
      },
      "source": [
        "n1 = int(input(\"Digite o primeiro número: \"))\r\n",
        "sinal = input(\"Digite o sinal: \")\r\n",
        "n2 = int(input(\"Digite o segundo número: \"))\r\n",
        " \r\n",
        "if sinal == \"+\":\r\n",
        "    op = n1 + n2\r\n",
        " \r\n",
        "elif sinal == \"-\":\r\n",
        "    op = n1 - n2\r\n",
        " \r\n",
        "elif sinal == \"/\":\r\n",
        "    op = n1 + n2\r\n",
        " \r\n",
        "elif sinal == \"*\":\r\n",
        "    op = n1 * n2\r\n",
        " \r\n",
        "else:\r\n",
        "    print(\"Sinal inválido.\")\r\n",
        " \r\n",
        "print(op)"
      ],
      "execution_count": null,
      "outputs": [
        {
          "output_type": "stream",
          "text": [
            "Digite o primeiro número: 5\n",
            "Digite o sinal: +\n",
            "Digite o segundo número: 2\n",
            "7\n"
          ],
          "name": "stdout"
        }
      ]
    },
    {
      "cell_type": "code",
      "metadata": {
        "colab": {
          "base_uri": "https://localhost:8080/"
        },
        "id": "D3i1zK2rZ3N6",
        "outputId": "a020f9e5-7e3e-461b-cb9b-b4157e95b212"
      },
      "source": [
        "dicionario = {\"A\":\"Ameixa\", \"B\":\"Bola\", \"C\":\"Cachorro\"}\r\n",
        "\r\n",
        "print(dicionario[\"A\"])\r\n",
        "\r\n",
        "for i in dicionario.items():\r\n",
        "  print(i)\r\n",
        "\r\n",
        "for i in dicionario.keys():\r\n",
        "  print(i)\r\n",
        "\r\n",
        "for i in dicionario.values():\r\n",
        "  print(i)"
      ],
      "execution_count": null,
      "outputs": [
        {
          "output_type": "stream",
          "text": [
            "Ameixa\n",
            "('A', 'Ameixa')\n",
            "('B', 'Bola')\n",
            "('C', 'Cachorro')\n",
            "A\n",
            "B\n",
            "C\n",
            "Ameixa\n",
            "Bola\n",
            "Cachorro\n"
          ],
          "name": "stdout"
        }
      ]
    },
    {
      "cell_type": "code",
      "metadata": {
        "id": "KJZMifp4b7Z3"
      },
      "source": [
        "#abrir e ler arquivo\r\n",
        "arquivo = open(\"arquivo.txt\")\r\n",
        "linhas = arquivo.read()\r\n",
        "linhas = arquivo.readlines()\r\n",
        "\r\n",
        "for linha in linhas:\r\n",
        "  print(linhas)\r\n",
        "\r\n",
        "#criar arquivo\r\n",
        "w = open(\"arquivo.txt\", \"w\")\r\n",
        "w.write(\"escreva aqui\")\r\n",
        "w.close()"
      ],
      "execution_count": null,
      "outputs": []
    },
    {
      "cell_type": "code",
      "metadata": {
        "colab": {
          "base_uri": "https://localhost:8080/"
        },
        "id": "fz95lRYydQ2E",
        "outputId": "f7a6575d-8063-4617-f9a4-e13022b09d54"
      },
      "source": [
        "def soma(x,y):\r\n",
        "  return x+y\r\n",
        "def mult(x,y):\r\n",
        "  return x*y\r\n",
        "\r\n",
        "s = soma(2,3)\r\n",
        "m = mult(3,4)\r\n",
        "\r\n",
        "print(s)\r\n",
        "print(m)"
      ],
      "execution_count": null,
      "outputs": [
        {
          "output_type": "stream",
          "text": [
            "5\n",
            "12\n"
          ],
          "name": "stdout"
        }
      ]
    },
    {
      "cell_type": "code",
      "metadata": {
        "colab": {
          "base_uri": "https://localhost:8080/"
        },
        "id": "cVOvYe7udrq5",
        "outputId": "c79f3299-98e1-41a4-e7e1-75b5667fac2a"
      },
      "source": [
        "import random\r\n",
        "\r\n",
        "num = random.randint(0, 10)\r\n",
        "print(num)"
      ],
      "execution_count": null,
      "outputs": [
        {
          "output_type": "stream",
          "text": [
            "2\n"
          ],
          "name": "stdout"
        }
      ]
    },
    {
      "cell_type": "code",
      "metadata": {
        "colab": {
          "base_uri": "https://localhost:8080/"
        },
        "id": "0_YFg1z-eOjT",
        "outputId": "e97c2203-6c27-499b-ee7c-4e1ef6d13bc0"
      },
      "source": [
        "a = int(input(\"Digite um valor:\"))\r\n",
        "b = int(input(\"Digite um valor:\"))\r\n",
        "\r\n",
        "try:\r\n",
        "  print(a/b)\r\n",
        "except:\r\n",
        "  print(\"Não é permitido divisão por 0\")"
      ],
      "execution_count": null,
      "outputs": [
        {
          "output_type": "stream",
          "text": [
            "Digite um valor:2\n",
            "Digite um valor:0\n",
            "Não é permitido divisão por 0\n"
          ],
          "name": "stdout"
        }
      ]
    },
    {
      "cell_type": "code",
      "metadata": {
        "colab": {
          "base_uri": "https://localhost:8080/"
        },
        "id": "QuQ5c65ogo5i",
        "outputId": "a9c268ed-4038-4e6e-a454-2a4df30fc5d1"
      },
      "source": [
        "import re\r\n",
        "x = input(\"Digite uma sequencia:\")\r\n",
        "y = input(\"Digite uma sequencia:\")\r\n",
        "\r\n",
        "busca = re.match(x,y)\r\n",
        "\r\n",
        "if busca:\r\n",
        "  print(\"Sequencia igual\")\r\n",
        "else:\r\n",
        "    print(\"Sequencia diferente\")"
      ],
      "execution_count": null,
      "outputs": [
        {
          "output_type": "stream",
          "text": [
            "Digite uma sequencia:thcvk\n",
            "Digite uma sequencia:exjygv\n",
            "Sequencia diferente\n"
          ],
          "name": "stdout"
        }
      ]
    },
    {
      "cell_type": "code",
      "metadata": {
        "colab": {
          "base_uri": "https://localhost:8080/"
        },
        "id": "_8miWQ4uiAn_",
        "outputId": "5329fcf5-ec58-409e-ff46-25db31511af2"
      },
      "source": [
        "import re\r\n",
        "x = \"AT.G\"\r\n",
        "y = \"AT.GA.*\"\r\n",
        "z = \"ATTGAAAAAAA\"\r\n",
        "\r\n",
        "busca1 = re.match(x,z)\r\n",
        "busca2 = re.match(y,z)\r\n",
        "\r\n",
        "if busca1:\r\n",
        "  print(busca1.group())\r\n",
        "\r\n",
        "if busca2:\r\n",
        "  print(busca2.group())"
      ],
      "execution_count": null,
      "outputs": [
        {
          "output_type": "stream",
          "text": [
            "ATTG\n",
            "ATTGAAAAAAA\n"
          ],
          "name": "stdout"
        }
      ]
    },
    {
      "cell_type": "code",
      "metadata": {
        "colab": {
          "base_uri": "https://localhost:8080/"
        },
        "id": "3fInN3oCjyvy",
        "outputId": "80d5e8ac-d289-4122-c632-2acadda9b7bc"
      },
      "source": [
        "menu = 0\r\n",
        "\r\n",
        "def abrirArquivo():\r\n",
        "  nome = input(\"Digite o nome do arquivo a abrir:\")\r\n",
        "  arquivo = open(nome)\r\n",
        "  return arquivo\r\n",
        "\r\n",
        "def lerArquivo(arquivo):\r\n",
        "  linhas = arquivo.readlines()\r\n",
        "  for linha in linhas:\r\n",
        "    print (linha.strip())\r\n",
        "\r\n",
        "while menu != 3:\r\n",
        "  print(\"(1)Abrir arquivo\\n(2)Ler arquivo\\n(3)Sair\\n\")\r\n",
        "  menu = int(input(\"Digite a opção:\"))\r\n",
        "\r\n",
        "  if menu == 1:\r\n",
        "    arquivo = abrirArquivo()\r\n",
        "  elif menu == 2:\r\n",
        "    lerArquivo(arquivo)"
      ],
      "execution_count": null,
      "outputs": [
        {
          "output_type": "stream",
          "text": [
            "(1)Abrir arquivo\n",
            "(2)Ler arquivo\n",
            "(3)Sair\n",
            "\n",
            "Digite a opção:1\n",
            "Digite o nome do arquivo a abrir:curso.txt\n",
            "(1)Abrir arquivo\n",
            "(2)Ler arquivo\n",
            "(3)Sair\n",
            "\n",
            "Digite a opção:2\n",
            "cap 11  (147 - 151) 49m\n",
            "cap 12  1h29\n",
            "total   2h18\n",
            "(1)Abrir arquivo\n",
            "(2)Ler arquivo\n",
            "(3)Sair\n",
            "\n",
            "Digite a opção:3\n"
          ],
          "name": "stdout"
        }
      ]
    },
    {
      "cell_type": "code",
      "metadata": {
        "colab": {
          "base_uri": "https://localhost:8080/"
        },
        "id": "hX1ftQ9Yk1Bv",
        "outputId": "45193113-f770-4ee4-c957-8c9f2490e5c1"
      },
      "source": [
        "x = [1, 2, 3, 4, 5]\r\n",
        "#y = [valor_add laço condição]\r\n",
        "y = [i**2 for i in x]\r\n",
        "z = [i for i in x if i%2==1]\r\n",
        "\r\n",
        "print(\"Usando list comprehension\")\r\n",
        "print(x)\r\n",
        "print(y)\r\n",
        "\r\n",
        "print(z)"
      ],
      "execution_count": 2,
      "outputs": [
        {
          "output_type": "stream",
          "text": [
            "Usando list comprehension\n",
            "[1, 2, 3, 4, 5]\n",
            "[1, 4, 9, 16, 25]\n",
            "[1, 3, 5]\n"
          ],
          "name": "stdout"
        }
      ]
    },
    {
      "cell_type": "code",
      "metadata": {
        "colab": {
          "base_uri": "https://localhost:8080/"
        },
        "id": "T2z2BqC9lfnZ",
        "outputId": "49ee3f3b-364c-4bea-e04f-6ad0f6fd2de2"
      },
      "source": [
        "# Função Enumerate\r\n",
        "lista = [\"abacate\", \"bola\", \"cachorro\"]\r\n",
        "\r\n",
        "for i, nome in enumerate(lista):\r\n",
        "   print(i, nome)"
      ],
      "execution_count": 6,
      "outputs": [
        {
          "output_type": "stream",
          "text": [
            "0 abacate\n",
            "1 bola\n",
            "2 cachorro\n"
          ],
          "name": "stdout"
        }
      ]
    },
    {
      "cell_type": "code",
      "metadata": {
        "colab": {
          "base_uri": "https://localhost:8080/"
        },
        "id": "3q65Eo0VmUc5",
        "outputId": "9c58dcf8-d914-4cce-fe75-8ca0aa2af4bf"
      },
      "source": [
        "# Filter\r\n",
        "\r\n",
        "def pares(i):\r\n",
        "  if i % 2 == 0:\r\n",
        "    return i\r\n",
        "\r\n",
        "def impares(i):\r\n",
        "  if i % 2 == 1:\r\n",
        "    return i\r\n",
        "\r\n",
        "lista = [1,2,3,4,5,6,7,8,9,10]\r\n",
        "\r\n",
        "lista_par = filter(pares, lista)\r\n",
        "lista_impar = filter(impares, lista)\r\n",
        "\r\n",
        "print(\"Pares: \")\r\n",
        "print(list(lista_par))\r\n",
        "print(\"Impares: \")\r\n",
        "print(list(lista_impar))"
      ],
      "execution_count": 13,
      "outputs": [
        {
          "output_type": "stream",
          "text": [
            "Pares: \n",
            "[2, 4, 6, 8, 10]\n",
            "Impares: \n",
            "[1, 3, 5, 7, 9]\n"
          ],
          "name": "stdout"
        }
      ]
    },
    {
      "cell_type": "code",
      "metadata": {
        "colab": {
          "base_uri": "https://localhost:8080/"
        },
        "id": "eZsag0zjnQdL",
        "outputId": "4590e1c9-dcfa-4cdd-9682-c2bdacf4d365"
      },
      "source": [
        "# Reduce\r\n",
        "from functools import reduce\r\n",
        "\r\n",
        "def soma(x, y):\r\n",
        "  return x + y\r\n",
        "\r\n",
        "lista = [1,3,5,10,20]\r\n",
        "\r\n",
        "soma = reduce(soma, lista)\r\n",
        "print(soma)"
      ],
      "execution_count": 14,
      "outputs": [
        {
          "output_type": "stream",
          "text": [
            "39\n"
          ],
          "name": "stdout"
        }
      ]
    },
    {
      "cell_type": "code",
      "metadata": {
        "colab": {
          "base_uri": "https://localhost:8080/"
        },
        "id": "J9s9h6-ani7x",
        "outputId": "1deca0a2-34d8-4ea6-b040-cd258e34af5f"
      },
      "source": [
        "# Zip\r\n",
        "\r\n",
        "lista1 = [1,2,3,4,5]\r\n",
        "lista2 = [\"Abacate\", \"Bola\", \"Cachorro\", \"Dinheiro\", \"Elefante\"]\r\n",
        "lista3 = [\"R$2,00\", \"R$5,00\", \"R$200,00\", \"Não tem preço\", \"R$20000,00\"]\r\n",
        "\r\n",
        "for num, nome, valor in zip(lista1, lista2, lista3):\r\n",
        "  print(num, nome, valor)"
      ],
      "execution_count": 17,
      "outputs": [
        {
          "output_type": "stream",
          "text": [
            "1 Abacate R$2,00\n",
            "2 Bola R$5,00\n",
            "3 Cachorro R$200,00\n",
            "4 Dinheiro Não tem preço\n",
            "5 Elefante R$20000,00\n"
          ],
          "name": "stdout"
        }
      ]
    },
    {
      "cell_type": "code",
      "metadata": {
        "colab": {
          "base_uri": "https://localhost:8080/"
        },
        "id": "b6LLYZF1oS-A",
        "outputId": "ebb23db3-4409-48c0-d186-272cdb5ecdc1"
      },
      "source": [
        "# Map\r\n",
        "\r\n",
        "def dobro(x):\r\n",
        "  return x*2\r\n",
        "\r\n",
        "valor = [1,2,3,4,5]\r\n",
        "\r\n",
        "valor_dobrado = list(map(dobro, valor))\r\n",
        "\r\n",
        "print(valor_dobrado)"
      ],
      "execution_count": 24,
      "outputs": [
        {
          "output_type": "stream",
          "text": [
            "[2, 4, 6, 8, 10]\n"
          ],
          "name": "stdout"
        }
      ]
    },
    {
      "cell_type": "code",
      "metadata": {
        "colab": {
          "base_uri": "https://localhost:8080/"
        },
        "id": "kt5pPUwNpOcH",
        "outputId": "f01982ca-8fc3-4e92-eefb-f1dbc8145e52"
      },
      "source": [
        "# Funções lambda\r\n",
        "\r\n",
        "valor = [1,2,3,4,5]\r\n",
        "\r\n",
        "valor_dobrado = list(map(lambda i: i*2, valor))\r\n",
        "\r\n",
        "print(valor_dobrado)"
      ],
      "execution_count": 25,
      "outputs": [
        {
          "output_type": "stream",
          "text": [
            "[2, 4, 6, 8, 10]\n"
          ],
          "name": "stdout"
        }
      ]
    },
    {
      "cell_type": "code",
      "metadata": {
        "id": "gxdJmvV2-rxp"
      },
      "source": [
        "import MySQLdb\r\n",
        "#pip install mysqlclient -> cmd\r\n",
        "\r\n",
        "host = \"localhost\"\r\n",
        "user = \"root\"\r\n",
        "password = \"\"\r\n",
        "db = \"udemy\"\r\n",
        "port = 3307\r\n",
        "\r\n",
        "con = MySQLdb.connect(host, user, password, db, port)\r\n",
        "\r\n",
        "c = con.cursor()\r\n",
        "\r\n",
        "def select(fields, tables, where=None):\r\n",
        "\t\r\n",
        "\tglobal c\r\n",
        "\t\r\n",
        "\tquery = \"select \" + fields + \" from \" + tables\r\n",
        "\tif (where):\r\n",
        "\t\tquery = query + \" where \" + where\r\n",
        "\t\r\n",
        "\tc.execute(query)\r\n",
        "\treturn c.fetchall()\r\n",
        "\t\r\n",
        "result = select(\"nome, cpf\", \"alunos\")\r\n",
        "\r\n",
        "print(result)\r\n"
      ],
      "execution_count": null,
      "outputs": []
    },
    {
      "cell_type": "code",
      "metadata": {
        "id": "_3P0IMqz-xFA"
      },
      "source": [
        "def insert(values, table, fields=None):\r\n",
        "\t\r\n",
        "\tglobal c, con\r\n",
        "\t\r\n",
        "\tquery = \"insert into \" + table\r\n",
        "\tif (fields):\r\n",
        "\t\tquery = query + \" (\" + fields + \") \"\r\n",
        "\tquery = query + \" VALUES \" + \",\".join([\"(\" + v + \")\" for v in values]) \r\n",
        "\t\r\n",
        "\tc.execute(query)\r\n",
        "\tcon.commit()\r\n",
        "\t\r\n",
        "\tvalues = [\r\n",
        "\t\"DEFAULT, 'Douglas', '2000-01-01', 'rua c', 'Rio de Janeiro', 'RJ', '789692564'\",\r\n",
        "\t\"DEFAULT, 'Edu', '1759-04-21', 'rua c', 'Rio de Janeiro', 'RJ', '789514564'\"\r\n",
        "\t]\r\n",
        "\r\n",
        "insert(values, \"alunos\")"
      ],
      "execution_count": null,
      "outputs": []
    },
    {
      "cell_type": "code",
      "metadata": {
        "id": "CGxgHr36Rw7p"
      },
      "source": [
        "def update(sets, table, where):\r\n",
        "\t\r\n",
        "\tglobal c, con\r\n",
        "\t\r\n",
        "\tquery = \"update \" + table + \" set \" + \",\".join([field + \" = '\" + value + \"'\" for field, value in sets.items()]) + \" where \" + where\r\n",
        "\t\r\n",
        "\tc.execute(query)\r\n",
        "\tcon.commit()\r\n",
        "\t\t\r\n",
        "update({\"nome\":\"Carlos\"}, \"alunos\", \"id_aluno = 3\")"
      ],
      "execution_count": null,
      "outputs": []
    },
    {
      "cell_type": "code",
      "metadata": {
        "id": "4E_A-tyrR0A0"
      },
      "source": [
        "def delete(table, where):\r\n",
        "\t\r\n",
        "\tglobal c, con\r\n",
        "\t\r\n",
        "\tquery = \"delete from \" + table + \" where \" + where\r\n",
        "\t\r\n",
        "\tc.execute(query)\r\n",
        "\tcon.commit()\r\n",
        "\t\r\n",
        "delete(\"alunos\", \"id_aluno = 4\")"
      ],
      "execution_count": null,
      "outputs": []
    },
    {
      "cell_type": "code",
      "metadata": {
        "colab": {
          "base_uri": "https://localhost:8080/",
          "height": 265
        },
        "id": "_IHL2jQCSRXZ",
        "outputId": "17c11bfc-3b69-4f2a-c857-893ef9e5675d"
      },
      "source": [
        "# Visualização de dados em Python\r\n",
        "\r\n",
        "import matplotlib.pyplot as plt\r\n",
        "\r\n",
        "x = [1,2]\r\n",
        "y = [2, 3]\r\n",
        "\r\n",
        "plt.plot(x, y)\r\n",
        "\r\n",
        "plt.show()"
      ],
      "execution_count": 29,
      "outputs": [
        {
          "output_type": "display_data",
          "data": {
            "image/png": "[encoded data removed]",
            "text/plain": [
              "<Figure size 432x288 with 1 Axes>"
            ]
          },
          "metadata": {
            "tags": [],
            "needs_background": "light"
          }
        }
      ]
    },
    {
      "cell_type": "code",
      "metadata": {
        "colab": {
          "base_uri": "https://localhost:8080/",
          "height": 295
        },
        "id": "-Psv306wSwLl",
        "outputId": "6ef17c5b-3d83-42cd-9fa5-e684966f4718"
      },
      "source": [
        "# Visualização de dados em Python\r\n",
        "\r\n",
        "import matplotlib.pyplot as plt\r\n",
        "\r\n",
        "x = [1,2, 5]\r\n",
        "y = [2, 3, 7]\r\n",
        "\r\n",
        "plt.title(\"Meu primeiro gráfico com python\")\r\n",
        "\r\n",
        "plt.xlabel(\"Eixo X\")\r\n",
        "plt.ylabel(\"Eixo Y\")\r\n",
        "\r\n",
        "plt.plot(x, y)\r\n",
        "\r\n",
        "plt.show()"
      ],
      "execution_count": 30,
      "outputs": [
        {
          "output_type": "display_data",
          "data": {
            "image/png": "[encoded data removed]",
            "text/plain": [
              "<Figure size 432x288 with 1 Axes>"
            ]
          },
          "metadata": {
            "tags": [],
            "needs_background": "light"
          }
        }
      ]
    },
    {
      "cell_type": "code",
      "metadata": {
        "colab": {
          "base_uri": "https://localhost:8080/",
          "height": 295
        },
        "id": "FvkU5E4lTUg8",
        "outputId": "ca10f985-516e-421c-bb9a-b8ffea067a56"
      },
      "source": [
        "# Visualização de dados em Python\r\n",
        "\r\n",
        "import matplotlib.pyplot as plt\r\n",
        "\r\n",
        "x = [1,2,3,4,5]\r\n",
        "y = [2,3,7,1,0]\r\n",
        "\r\n",
        "plt.title(\"Gráfico de barras\")\r\n",
        "plt.xlabel(\"Eixo X\")\r\n",
        "plt.ylabel(\"Eixo Y\")\r\n",
        "\r\n",
        "plt.bar(x, y)\r\n",
        "\r\n",
        "plt.show()"
      ],
      "execution_count": 35,
      "outputs": [
        {
          "output_type": "display_data",
          "data": {
            "image/png": "[encoded data removed]",
            "text/plain": [
              "<Figure size 432x288 with 1 Axes>"
            ]
          },
          "metadata": {
            "tags": [],
            "needs_background": "light"
          }
        }
      ]
    },
    {
      "cell_type": "code",
      "metadata": {
        "colab": {
          "base_uri": "https://localhost:8080/",
          "height": 295
        },
        "id": "yOYe0o2CT5r_",
        "outputId": "fda67c1a-c0ab-4835-9530-13121c8b9660"
      },
      "source": [
        "# Visualização de dados em Python\r\n",
        "\r\n",
        "import matplotlib.pyplot as plt\r\n",
        "\r\n",
        "x1 = [1,3,5,7,9]\r\n",
        "y1 = [2,3,7,1,0]\r\n",
        "\r\n",
        "x2 = [2,4,6,8,10]\r\n",
        "y2 = [5,1,3,7,4]\r\n",
        "\r\n",
        "plt.title(\"Gráfico de barras 2\")\r\n",
        "plt.xlabel(\"Eixo X\")\r\n",
        "plt.ylabel(\"Eixo Y\")\r\n",
        "\r\n",
        "plt.bar(x1, y1, label = \"Grupo 1\", color = \"red\")\r\n",
        "plt.bar(x2, y2, label = \"Grupo 2\", color = \"green\")\r\n",
        "plt.legend()\r\n",
        "\r\n",
        "plt.show()"
      ],
      "execution_count": 39,
      "outputs": [
        {
          "output_type": "display_data",
          "data": {
            "image/png": "[encoded data removed]",
            "text/plain": [
              "<Figure size 432x288 with 1 Axes>"
            ]
          },
          "metadata": {
            "tags": [],
            "needs_background": "light"
          }
        }
      ]
    },
    {
      "cell_type": "code",
      "metadata": {
        "colab": {
          "base_uri": "https://localhost:8080/",
          "height": 312
        },
        "id": "8mHERqn8VlKf",
        "outputId": "6b60427f-684a-45c4-a52f-eb7590d8a182"
      },
      "source": [
        "# Visualização de dados em Python\r\n",
        "\r\n",
        "import matplotlib.pyplot as plt\r\n",
        "\r\n",
        "x = [1,3,5,7,9]\r\n",
        "y = [2,3,7,1,0]\r\n",
        "\r\n",
        "x1 = [1,4,5,6,9,6.5,8,5,2,3.5,1]\r\n",
        "y1 = [4,4,7,4,4,2,-2,1,-2,2,4]\r\n",
        "\r\n",
        "plt.title(\"Scatterplot: Gráfico de Dispersão\")\r\n",
        "plt.xlabel(\"Eixo X\")\r\n",
        "plt.ylabel(\"Eixo Y\")\r\n",
        "plt.rcParams['axes.facecolor'] = 'white'\r\n",
        "\r\n",
        "plt.scatter(x1, y1, color = \"green\", marker=\"*\",s=100)\r\n",
        "plt.plot(x1, y1, linestyle = \"--\")\r\n",
        "plt.legend()\r\n",
        "\r\n",
        "plt.show()"
      ],
      "execution_count": 78,
      "outputs": [
        {
          "output_type": "stream",
          "text": [
            "No handles with labels found to put in legend.\n"
          ],
          "name": "stderr"
        },
        {
          "output_type": "display_data",
          "data": {
            "image/png": "[encoded data removed]",
            "text/plain": [
              "<Figure size 432x288 with 1 Axes>"
            ]
          },
          "metadata": {
            "tags": [],
            "needs_background": "light"
          }
        }
      ]
    },
    {
      "cell_type": "code",
      "metadata": {
        "colab": {
          "base_uri": "https://localhost:8080/",
          "height": 281
        },
        "id": "zhiuwSPZigF4",
        "outputId": "b0360e33-7661-492d-dc78-d5c92ef06946"
      },
      "source": [
        "# Visualização de dados em Python\r\n",
        "\r\n",
        "import matplotlib.pyplot as plt\r\n",
        "import random\r\n",
        "\r\n",
        "vetor = []\r\n",
        "\r\n",
        "for i in range(10):\r\n",
        "  numero = random.randint(0, 5)\r\n",
        "  vetor.append(numero)\r\n",
        "\r\n",
        "plt.boxplot(vetor)\r\n",
        "plt.title(\"Boxplot\")\r\n",
        "plt.show()"
      ],
      "execution_count": 84,
      "outputs": [
        {
          "output_type": "display_data",
          "data": {
            "image/png": "[encoded data removed]",
            "text/plain": [
              "<Figure size 432x288 with 1 Axes>"
            ]
          },
          "metadata": {
            "tags": [],
            "needs_background": "light"
          }
        }
      ]
    },
    {
      "cell_type": "code",
      "metadata": {
        "colab": {
          "base_uri": "https://localhost:8080/"
        },
        "id": "cIQ9GE_no4Sz",
        "outputId": "e8485823-9201-4a1e-af45-f457da7e8596"
      },
      "source": [
        "entrada = open(\"16s_bacteria.fasta\").read()\r\n",
        "saida = open(\"16s_bacteria.html\",\"w\")\r\n",
        "#entrada = open(\"18s_humano.fasta\").read()\r\n",
        "#saida = open(\"16s_humano.html\",\"w\")\r\n",
        " \r\n",
        "cont = {}\r\n",
        " \r\n",
        "for i in ['A', 'T', 'C', 'G']:\r\n",
        "\tfor j in ['A', 'T', 'C', 'G']:\r\n",
        "\t\tcont[i+j] = 0\r\n",
        " \r\n",
        "entrada = entrada.replace(\"\\n\",\"\")\r\n",
        " \r\n",
        "for k in range(len(entrada)-1):\r\n",
        "\tcont[entrada[k]+entrada[k+1]] += 1\r\n",
        " \r\n",
        "# html\r\n",
        " \r\n",
        "saida.write(\"<div>\")\r\n",
        " \r\n",
        "i = 1\r\n",
        "for k in cont:\r\n",
        "\ttransparencia = cont[k]/max(cont.values())\r\n",
        "\tsaida.write(\"<div style='width:100px; border:1px solid #111; color:#fff; height:100px; float:left; background-color:rgba(0, 0, 0, \"+str(transparencia)+\"')>\"+k+\"</div>\")\r\n",
        " \r\n",
        "\tif i%4 == 0:\r\n",
        "\t\tsaida.write(\"<div style='clear:both'></div>\")\r\n",
        " \r\n",
        "\ti+=1\r\n",
        " \r\n",
        "saida.close()"
      ],
      "execution_count": 88,
      "outputs": [
        {
          "output_type": "stream",
          "text": [
            "{'AA': 105, 'AT': 64, 'AC': 86, 'AG': 111, 'TA': 64, 'TT': 57, 'TC': 60, 'TG': 108, 'CA': 83, 'CT': 75, 'CC': 74, 'CG': 97, 'GA': 113, 'GT': 93, 'GC': 109, 'GG': 147}\n"
          ],
          "name": "stdout"
        }
      ]
    }
  ]
}